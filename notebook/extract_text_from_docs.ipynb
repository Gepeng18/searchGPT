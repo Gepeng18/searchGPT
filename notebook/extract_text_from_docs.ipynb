{
 "cells": [
  {
   "cell_type": "markdown",
   "source": [
    "# Word Document"
   ],
   "metadata": {
    "collapsed": false
   }
  },
  {
   "cell_type": "code",
   "execution_count": 1,
   "outputs": [],
   "source": [
    "import docx"
   ],
   "metadata": {
    "collapsed": false
   }
  },
  {
   "cell_type": "code",
   "execution_count": 2,
   "outputs": [],
   "source": [
    "doc = docx.Document(\"test_docs/Dark_Energy.docx\")"
   ],
   "metadata": {
    "collapsed": false
   }
  },
  {
   "cell_type": "code",
   "execution_count": 3,
   "outputs": [
    {
     "data": {
      "text/plain": "['Dark Energy, Dark Matter',\n 'In the early 1990s, one thing was fairly certain about the expansion of the universe. It might have enough energy density to stop its expansion and recollapse, it might have so little energy density that it would never stop expanding, but gravity was certain to slow the expansion as time went on. Granted, the slowing had not been observed, but, theoretically, the universe had to slow. The universe is full of matter and the attractive force of gravity pulls all matter together. Then came 1998 and the Hubble Space Telescope (HST) observations of very distant supernovae that showed that, a long time ago, the universe was actually expanding more slowly than it is today. So the expansion of the universe has not been slowing due to gravity, as everyone thought, it has been accelerating. No one expected this, no one knew how to explain it. But something was causing it.',\n 'Eventually theorists came up with three sorts of explanations. Maybe it was a result of a long-discarded version of Einstein\\'s theory of gravity, one that contained what was called a \"cosmological constant.\" Maybe there was some strange kind of energy-fluid that filled space. Maybe there is something wrong with Einstein\\'s theory of gravity and a new theory could include some kind of field that creates this cosmic acceleration. Theorists still don\\'t know what the correct explanation is, but they have given the solution a name. It is called dark energy.',\n 'What Is Dark Energy?',\n 'More is unknown than is known. We know how much dark energy there is because we know how it affects the universe\\'s expansion. Other than that, it is a complete mystery. But it is an important mystery. It turns out that roughly 68% of the universe is dark energy. Dark matter makes up about 27%. The rest - everything on Earth, everything ever observed with all of our instruments, all normal matter - adds up to less than 5% of the universe. Come to think of it, maybe it shouldn\\'t be called \"normal\" matter at all, since it is such a small fraction of the universe.',\n 'Changes in the Rate of Expansion over Time',\n 'Universe Dark Energy-1 Expanding Universe',\n \"This diagram reveals changes in the rate of expansion since the universe's birth 15 billion years ago. The more shallow the curve, the faster the rate of expansion. The curve changes noticeably about 7.5 billion years ago, when objects in the universe began flying apart as a faster rate. Astronomers theorize that the faster expansion rate is due to a mysterious, dark force that is pulling galaxies apart.\",\n 'Credit: NASA/STSci/Ann Feild',\n 'One explanation for dark energy is that it is a property of space. Albert Einstein was the first person to realize that empty space is not nothing. Space has amazing properties, many of which are just beginning to be understood. The first property that Einstein discovered is that it is possible for more space to come into existence. Then one version of Einstein\\'s gravity theory, the version that contains a cosmological constant, makes a second prediction: \"empty space\" can possess its own energy. Because this energy is a property of space itself, it would not be diluted as space expands. As more space comes into existence, more of this energy-of-space would appear. As a result, this form of energy would cause the universe to expand faster and faster. Unfortunately, no one understands why the cosmological constant should even be there, much less why it would have exactly the right value to cause the observed acceleration of the universe. ',\n 'Dark Matter Core Defies Explanation',\n 'Dark Matter Core Defies Explanation',\n 'This image shows the distribution of dark matter, galaxies, and hot gas in the core of the merging galaxy cluster Abell 520. The result could present a challenge to basic theories of dark matter.',\n 'Another explanation for how space acquires energy comes from the quantum theory of matter. In this theory, \"empty space\" is actually full of temporary (\"virtual\") particles that continually form and then disappear. But when physicists tried to calculate how much energy this would give empty space, the answer came out wrong - wrong by a lot. The number came out 10120 times too big. That\\'s a 1 with 120 zeros after it. It\\'s hard to get an answer that bad. So the mystery continues.',\n 'Another explanation for dark energy is that it is a new kind of dynamical energy fluid or field, something that fills all of space but something whose effect on the expansion of the universe is the opposite of that of matter and normal energy. Some theorists have named this \"quintessence,\" after the fifth element of the Greek philosophers. But, if quintessence is the answer, we still don\\'t know what it is like, what it interacts with, or why it exists. So the mystery continues.',\n \"A last possibility is that Einstein's theory of gravity is not correct. That would not only affect the expansion of the universe, but it would also affect the way that normal matter in galaxies and clusters of galaxies behaved. This fact would provide a way to decide if the solution to the dark energy problem is a new gravity theory or not: we could observe how galaxies come together in clusters. But if it does turn out that a new theory of gravity is needed, what kind of theory would it be? How could it correctly describe the motion of the bodies in the Solar System, as Einstein's theory is known to do, and still give us the different prediction for the universe that we need? There are candidate theories, but none are compelling. So the mystery continues.\",\n 'The thing that is needed to decide between dark energy possibilities - a property of space, a new dynamic fluid, or a new theory of gravity - is more data, better data.',\n 'What Is Dark Matter?',\n 'By fitting a theoretical model of the composition of the universe to the combined set of cosmological observations, scientists have come up with the composition that we described above, ~68% dark energy, ~27% dark matter, ~5% normal matter. What is dark matter?',\n 'We are much more certain what dark matter is not than we are what it is. First, it is dark, meaning that it is not in the form of stars and planets that we see. Observations show that there is far too little visible matter in the universe to make up the 27% required by the observations. Second, it is not in the form of dark clouds of normal matter, matter made up of particles called baryons. We know this because we would be able to detect baryonic clouds by their absorption of radiation passing through them. Third, dark matter is not antimatter, because we do not see the unique gamma rays that are produced when antimatter annihilates with matter. Finally, we can rule out large galaxy-sized black holes on the basis of how many gravitational lenses we see. High concentrations of matter bend light passing near them from objects further away, but we do not see enough lensing events to suggest that such objects to make up the required 25% dark matter contribution.']"
     },
     "execution_count": 3,
     "metadata": {},
     "output_type": "execute_result"
    }
   ],
   "source": [
    "extract_text_list = [paragraph.text for paragraph in doc.paragraphs if len(paragraph.text) > 0]\n",
    "extract_text_list"
   ],
   "metadata": {
    "collapsed": false
   }
  },
  {
   "cell_type": "markdown",
   "source": [
    "# Powerpoint"
   ],
   "metadata": {
    "collapsed": false
   }
  },
  {
   "cell_type": "code",
   "execution_count": 4,
   "outputs": [],
   "source": [
    "import pptx"
   ],
   "metadata": {
    "collapsed": false
   }
  },
  {
   "cell_type": "code",
   "execution_count": 6,
   "outputs": [],
   "source": [
    "prs = pptx.Presentation(\"test_docs/Dark_Energy.pptx\")"
   ],
   "metadata": {
    "collapsed": false
   }
  },
  {
   "cell_type": "code",
   "execution_count": 12,
   "outputs": [
    {
     "data": {
      "text/plain": "[{'text': 'Dark Energy', 'slide_no': 1, 'paragraph_no': 1},\n {'text': '', 'slide_no': 1, 'paragraph_no': 2},\n {'text': 'Multiple Black Hole Models', 'slide_no': 2, 'paragraph_no': 1},\n {'text': 'When a massive star ends its life, it collapses to form a black hole, creating a well in spacetime so deep that even light cannot escape. Although our understanding of black holes has grown over time, there’s still much we don’t know about them, and we rely on mathematical models to learn more and make predictions that we can test. The most common model predicts a spinning black hole containing a singularity — a point of hypothetically infinitely curved spacetime where our equations describing gravity break down — hidden by the black hole’s event horizon.',\n  'slide_no': 2,\n  'paragraph_no': 2},\n {'text': 'Multiple Black Hole Models', 'slide_no': 3, 'paragraph_no': 1},\n {'text': 'However, this common black hole model is in tension with the overall expansion of the universe, leading some scientists to propose alternative models. In one such model, black holes do not contain a singularity, but are instead filled with vacuum energy. These vacuum-energy black holes are intriguing because their growth is coupled to the expansion of the universe: as the universe expands, these black holes gain mass.',\n  'slide_no': 3,\n  'paragraph_no': 2},\n {'text': 'Do Black Holes Gain Mass as the Universe Expands?',\n  'slide_no': 4,\n  'paragraph_no': 1},\n {'text': 'In a research article published today, Duncan Farrah (University of Hawaiʻi) and collaborators tested this black hole model by studying the growth of supermassive black holes over billions of years. The team studied elliptical galaxies since these galaxies’ central supermassive black holes are unlikely to grow much by other means, such as by consuming nearby stars and gas.',\n  'slide_no': 4,\n  'paragraph_no': 2},\n {'text': 'Do Black Holes Gain Mass as the Universe Expands?',\n  'slide_no': 5,\n  'paragraph_no': 1},\n {'text': 'By measuring how the masses of black holes at the centers of elliptical galaxies billions of years ago compare to those present today, Farrah and coauthors determined the strength of the coupling between black hole mass and the expansion of the universe. Traditional singularity-containing black holes would have a coupling strength of 0, while vacuum-energy black holes would have a coupling strength of 3. Ultimately, the team found the coupling strength to be around 3.11, and they ruled out the possibility of zero coupling at 99.98% confidence. This finding supports the vacuum-energy black hole model and suggests that black holes do gain mass as the universe expands.',\n  'slide_no': 5,\n  'paragraph_no': 2},\n {'text': 'Dark Energy, Illuminated', 'slide_no': 6, 'paragraph_no': 1},\n {'text': 'What does it mean for black hole growth to be linked to the expansion of the universe? Certain physical quantities must be conserved as black holes gain mass, and as a result, the growth of black holes produces pressure that drives the acceleration of the universe’s expansion. In other words, black holes that grow as the universe expands are a source of dark energy, a long sought-after component of our models of the cosmos.',\n  'slide_no': 6,\n  'paragraph_no': 2},\n {'text': 'Dark Energy, Illuminated', 'slide_no': 7, 'paragraph_no': 1},\n {'text': 'Farrah and collaborators performed additional modeling showing that the expected population of vacuum-energy black holes can account for the density of dark energy previously measured by the Planck satellite — so not only do vacuum-energy black holes generate dark energy, they generate the same amount of dark energy we’ve measured! Hopefully, the next few months to years will bring more research on this topic, expanding our understanding of the fundamental physics of our universe.',\n  'slide_no': 7,\n  'paragraph_no': 2}]"
     },
     "execution_count": 12,
     "metadata": {},
     "output_type": "execute_result"
    }
   ],
   "source": [
    "extract_text_ppt = list()\n",
    "for i, slide in enumerate(prs.slides, start=1):\n",
    "    for j, shape in enumerate(slide.shapes, start=1):\n",
    "        if hasattr(shape, \"text\"):\n",
    "            extract_text_ppt.append({\n",
    "                \"text\": shape.text,\n",
    "                \"slide_no\": i,\n",
    "                \"paragraph_no\": j\n",
    "            })\n",
    "\n",
    "extract_text_ppt"
   ],
   "metadata": {
    "collapsed": false
   }
  },
  {
   "cell_type": "code",
   "execution_count": null,
   "outputs": [],
   "source": [],
   "metadata": {
    "collapsed": false
   }
  }
 ],
 "metadata": {
  "kernelspec": {
   "display_name": "Python 3",
   "language": "python",
   "name": "python3"
  },
  "language_info": {
   "codemirror_mode": {
    "name": "ipython",
    "version": 2
   },
   "file_extension": ".py",
   "mimetype": "text/x-python",
   "name": "python",
   "nbconvert_exporter": "python",
   "pygments_lexer": "ipython2",
   "version": "2.7.6"
  }
 },
 "nbformat": 4,
 "nbformat_minor": 0
}
