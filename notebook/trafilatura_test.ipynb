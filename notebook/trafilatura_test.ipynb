{
 "cells": [
  {
   "cell_type": "code",
   "execution_count": null,
   "metadata": {
    "collapsed": true
   },
   "outputs": [],
   "source": [
    "import trafilatura\n",
    "from trafilatura import bare_extraction"
   ]
  },
  {
   "cell_type": "code",
   "execution_count": null,
   "outputs": [],
   "source": [
    "import nltk\n",
    "nltk.download('punkt')"
   ],
   "metadata": {
    "collapsed": false
   }
  },
  {
   "cell_type": "code",
   "execution_count": null,
   "outputs": [],
   "source": [
    "test_url = 'https://www.sciencealert.com/radical-theory-proposes-black-holes-are-the-source-of-mysterious-dark-energy'"
   ],
   "metadata": {
    "collapsed": false
   }
  },
  {
   "cell_type": "code",
   "execution_count": null,
   "outputs": [],
   "source": [
    "downloaded = trafilatura.fetch_url(test_url)"
   ],
   "metadata": {
    "collapsed": false
   }
  },
  {
   "cell_type": "code",
   "execution_count": null,
   "outputs": [],
   "source": [
    "extract = bare_extraction(downloaded)"
   ],
   "metadata": {
    "collapsed": false
   }
  },
  {
   "cell_type": "code",
   "execution_count": null,
   "outputs": [],
   "source": [
    "extract['text']"
   ],
   "metadata": {
    "collapsed": false
   }
  },
  {
   "cell_type": "markdown",
   "source": [
    "# Favour precision"
   ],
   "metadata": {
    "collapsed": false
   }
  },
  {
   "cell_type": "code",
   "execution_count": null,
   "outputs": [],
   "source": [
    "favor_precision_extract = bare_extraction(downloaded, favor_precision=True)"
   ],
   "metadata": {
    "collapsed": false
   }
  },
  {
   "cell_type": "code",
   "execution_count": 14,
   "outputs": [
    {
     "data": {
      "text/plain": "'Black holes could explain a mysterious form of energy that makes up most of the Universe, according to astronomers.\\nThe existence of \"dark energy\" has been inferred from observations of stars and galaxies, but no one has been able to explain what it is, or where it comes from.\\nThe stuff, or matter, that makes up the familiar world around us is just 5 percent of everything in the Universe. Another 27 percent is dark matter, a shadowy counterpart of ordinary matter which does not emit, reflect or absorb light. However, the majority of the cosmos – around 68 percent – is dark energy.\\nThe study is the work of 17 astronomers in nine countries and was led by the University of Hawaii. The collaboration included researchers in the UK, based at STFC RAL Space, The Open University, and Imperial College London.\\nSearching through data spanning nine billion years of cosmic history, the astronomers have uncovered the first evidence of \"cosmological coupling\", which would mean that the growth of black holes over time is linked to the expansion of the Universe itself.\\nThe idea that black holes might contain something called vacuum energy (a manifestation of dark energy) is not particularly new and in fact was discussed theoretically as far back as the 1960s.\\nBut this latest work assumes this energy (and therefore the mass of the black holes) would increase with time as the Universe expands as a result of cosmological coupling.\\nThe team calculated how much of the dark energy in the Universe could be attributed to this process. They found that black holes could potentially explain the total amount of dark energy we measure in the Universe today.\\nThe result could solve one of the most fundamental problems in modern cosmology.\\nRapid expansion\\nOur Universe began in a Big Bang around 13.7 billion years ago. The energy from this explosion of space and time caused the Universe to expand rapidly, with all the galaxies flying away from each other.\\nHowever, we expect that this expansion would gradually slow down because of the effect of gravity on all the stuff in the cosmos.\\nThis is the version of the Universe we thought we lived in until the late 1990s, when the Hubble Space Telescope discovered something strange. Observations of distant exploding stars showed that, in the past, the Universe was actually expanding more slowly than it is today.\\nSo the expansion of the Universe has not been slowing due to gravity, as everyone thought, but instead has been accelerating. This was highly unexpected and astronomers struggled to explain it.\\nTo account for this, it was proposed that a \"dark energy\" was responsible for pushing things apart more strongly than gravity pulled things together.\\nThe concept of dark energy was very similar to a mathematical construct Einstein had proposed but later discarded – a \"cosmological constant\" that opposed gravity and kept the Universe from collapsing.\\nStellar explosions\\nBut what is dark energy? The solution, it seems, might lie with another cosmic mystery: black holes. Black holes are commonly born when massive stars explode and die at the ends of their lives.\\nThe gravity and pressure in these violent explosions compresses vast amounts of material into a small space. For instance, a star about the same mass as our Sun would be squashed into a space of just a few tens of kilometers.\\nA black hole\\'s gravitational pull is so strong that not even light can escape it – everything gets sucked in. At the center of the black hole is a place called a singularity, where matter is crushed into a point of infinite density.\\nThe problem is that singularities are a mathematical construct that should not exist.\\nThe black holes nestled at the centers of galaxies are much heftier than those born when stars die violently. These galactic \"supermassive\" black holes can weigh millions to billions of times the mass of our Sun.\\nAll black holes increase in size by accumulating matter, by swallowing stars that get too close, or by merging with other black holes. So we expect them to get bigger as the Universe gets older.\\nIn the latest paper, the team looked at supermassive black holes in the centers of galaxies and found that these black holes gain mass over billions of years.\\nRadical rethink\\nThe team compared observations of elliptical galaxies, which lack star formation, in the past and in the present day.\\nThese dead galaxies have used up all their fuel so any increase in their black hole mass over this time cannot be ascribed to the normal processes by which black holes grow by accumulating matter.\\nInstead, the team proposed that these black holes actually contain vacuum energy and that they are \"coupled\" to the expansion of the Universe, so that they increase in mass as the Universe expands.\\nThis model neatly provides a possible origin for the dark energy in the Universe. It also circumvents the mathematical problems that affect some studies of black holes, because it avoids the need for a singularity at the center.\\nThe team also calculated how much of the dark energy in the Universe could be attributed to this process of coupling. They concluded that it would be possible for black holes to provide the necessary amount of vacuum energy to account for all the dark energy that we measure in the Universe today.\\nThis would not only explain the origin of dark energy in the Universe but would also make us radically rethink our understanding of black holes and their role in the cosmos.\\nMuch more work needs to be done to test and confirm this idea, both from observations of the sky and from theory. But we may at last be seeing a new way to solve the problem of dark energy.'"
     },
     "execution_count": 14,
     "metadata": {},
     "output_type": "execute_result"
    }
   ],
   "source": [
    "favor_precision_extract['text']"
   ],
   "metadata": {
    "collapsed": false
   }
  },
  {
   "cell_type": "code",
   "execution_count": null,
   "outputs": [],
   "source": [
    "favor_precision_split = favor_precision_extract['text'].split(\"\\n\")\n",
    "favor_precision_split"
   ],
   "metadata": {
    "collapsed": false
   }
  },
  {
   "cell_type": "markdown",
   "source": [
    "# spaCy"
   ],
   "metadata": {
    "collapsed": false
   }
  },
  {
   "cell_type": "code",
   "execution_count": null,
   "outputs": [],
   "source": [
    "# !python -m spacy download en_core_web_sm"
   ],
   "metadata": {
    "collapsed": false
   }
  },
  {
   "cell_type": "code",
   "execution_count": null,
   "outputs": [],
   "source": [
    "import spacy\n",
    "\n",
    "nlp = spacy.load(\"en_core_web_trf\")"
   ],
   "metadata": {
    "collapsed": false
   }
  },
  {
   "cell_type": "code",
   "execution_count": null,
   "outputs": [],
   "source": [
    "doc = nlp(favor_precision_extract['text'])\n",
    "\n",
    "# Analyze syntax\n",
    "print(\"Noun phrases:\", [chunk.text for chunk in doc.noun_chunks])\n",
    "print(\"Verbs:\", [token.lemma_ for token in doc if token.pos_ == \"VERB\"])\n",
    "\n",
    "# Find named entities, phrases and concepts\n",
    "for entity in doc.ents:\n",
    "    print(entity.text, entity.label_)"
   ],
   "metadata": {
    "collapsed": false
   }
  },
  {
   "cell_type": "code",
   "execution_count": 15,
   "outputs": [
    {
     "data": {
      "text/plain": "(Universe,\n just 5 percent,\n Universe,\n Another 27 percent,\n around 68 percent,\n 17,\n nine,\n the University of Hawaii,\n UK,\n STFC RAL Space,\n The Open University,\n Imperial College London,\n nine billion years,\n first,\n Universe,\n the 1960s,\n Universe,\n Universe,\n Universe,\n today,\n Universe,\n around 13.7 billion years ago,\n Universe,\n Universe,\n the late 1990s,\n the Hubble Space Telescope,\n Universe,\n today,\n Universe,\n Einstein,\n Universe,\n Sun,\n just a few tens of kilometers,\n millions to billions of times,\n Sun,\n Universe,\n billions of years,\n the present day,\n Universe,\n Universe,\n Universe,\n Universe,\n Universe,\n today,\n Universe)"
     },
     "execution_count": 15,
     "metadata": {},
     "output_type": "execute_result"
    }
   ],
   "source": [
    "doc.ents"
   ],
   "metadata": {
    "collapsed": false
   }
  }
 ],
 "metadata": {
  "kernelspec": {
   "display_name": "Python 3",
   "language": "python",
   "name": "python3"
  },
  "language_info": {
   "codemirror_mode": {
    "name": "ipython",
    "version": 2
   },
   "file_extension": ".py",
   "mimetype": "text/x-python",
   "name": "python",
   "nbconvert_exporter": "python",
   "pygments_lexer": "ipython2",
   "version": "2.7.6"
  }
 },
 "nbformat": 4,
 "nbformat_minor": 0
}
